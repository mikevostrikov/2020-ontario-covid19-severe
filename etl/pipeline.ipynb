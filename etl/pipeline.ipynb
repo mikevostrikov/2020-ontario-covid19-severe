{
 "cells": [
  {
   "cell_type": "markdown",
   "metadata": {},
   "source": [
    "<h1>Ontario COVID-19 Hospitalization and ICU Rates and Chart - Data Pipeline</h1>"
   ]
  },
  {
   "cell_type": "markdown",
   "metadata": {},
   "source": [
    "<h3>Pipeline outline</h3>\n",
    "<div class=\"alert alert-block alert-info\" style=\"margin-top: 20px\">\n",
    "    <ol>\n",
    "        <li><a href=\"#parse-ontario-health-website\">Parse Public Health Ontario web-page to retrieve URLs to daily epidemilogic summaries pdf-reports</a></li>\n",
    "        <li><a href=\"#dowload-and-parse-reports\">Download the most recent three pdf-reports and extract Ever Hospitalized, Ever in ICU, Total Deaths metrics</a></li>\n",
    "        <li><a href=\"#dowload-historical-data\">Download accumulated historical data and manual override data</a></li>\n",
    "        <li><a href=\"#combine-data\">Combine newly extracted data with historical data and manual override data into a single historical dataset. Upload the dataset to S3</a></li>\n",
    "        <li><a href=\"#find-missing-dates\">Identify missing dates if any. Upload the list of missing dates to S3</a></li>\n",
    "        <li><a href=\"#build-graphs\">Build graphs for day-to-day totals and deltas. Upload the graphs to S3</a></li>\n",
    "        <li><a href=\"#refresh-cd\">Refreshing CloudFront cache</a></li>\n",
    "    </ol>\n",
    "</div>"
   ]
  },
  {
   "cell_type": "markdown",
   "metadata": {},
   "source": [
    "<a id=\"parse-ontario-health-website\"></a>\n",
    "<h4>Parse Public Health Ontario web-page to retrieve URLs to daily epidemilogic summaries pdf-reports</h4>"
   ]
  },
  {
   "cell_type": "code",
   "execution_count": null,
   "metadata": {},
   "outputs": [],
   "source": [
    "DEBUG = False"
   ]
  },
  {
   "cell_type": "code",
   "execution_count": null,
   "metadata": {},
   "outputs": [],
   "source": [
    "import re\n",
    "import requests\n",
    "\n",
    "response = requests.get('https://covid-19.ontario.ca/covid-19-epidemiologic-summaries-public-health-ontario')\n",
    "response.raise_for_status()\n",
    "urls = re.findall(r'https://files\\.ontario\\.ca/moh-covid-19-report-en-202.+\\.pdf', response.text)\n",
    "print(f'Discovered {len(urls)} urls')\n",
    "urls[:5]"
   ]
  },
  {
   "cell_type": "markdown",
   "metadata": {},
   "source": [
    "<a id=\"dowload-and-parse-reports\"></a>\n",
    "<h4>Download the most recent three pdf-reports and extract Ever Hospitalized, Ever in ICU, Total Deaths metrics</h4>"
   ]
  },
  {
   "cell_type": "code",
   "execution_count": null,
   "metadata": {},
   "outputs": [],
   "source": [
    "from pdfminer.high_level import extract_text\n",
    "from datetime import datetime, date\n",
    "from io import BytesIO\n",
    "\n",
    "def get_pdf_bytes_io_from_url(url):\n",
    "    response = requests.get(url)\n",
    "    response.raise_for_status()\n",
    "    return BytesIO(response.content)\n",
    "\n",
    "def parse_report_fields(text):\n",
    "    template = (\n",
    "        'Ever\\s+in\\s+ICU\\s+Ever\\s+hospitalized\\s+(?:Data\\s+Source:\\s+(?:iPHIS|CCM)\\s+plus\\s+)?(?:Cumulative\\s+case\\s+count\\s+as\\s+of\\s+[A-z]+\\s+\\d+\\s+Percentage\\s+of\\s+all\\s+cases\\s+)?([\\d,]+)\\s+[\\d,]+\\s+[\\d,]+\\s+[\\d,]+\\s+[\\d,]+\\s+[\\d,]+\\s+([\\d,]+)\\s+([\\d,]+)\\s+[\\d\\.]+\\s*%?\\s+<?[\\d\\.]+\\s*%?\\s+<?[\\d\\.]+\\s*%?\\s+<?[\\d\\.]+\\s*%?\\s+[\\d\\.]+\\s*%?\\s+[\\d\\.]+\\s*%?\\s+[\\d\\.]+\\s*%?\\s+[\\d\\.]+\\s*%?\\s+(?:Note: Not all cases have an age reported. Data corrections or updates.*?)?COVID-19\\s+in\\s+Ontario:\\s+[A-z]+\\s+\\d+,\\s+202\\d\\s+to\\s+([A-z]+)\\s+(\\d+),\\s+(202\\d)'\n",
    "        #Ever   in   ICU   Ever   hospitalized                                                                                                                                            2,840      1        11       122      765     1,941      1,083    5,108        5.6%           <0.1%           0.1%              0.8%           9.1%          30.9%           2.1%          10.1%              Note: Not all cases have an age reported. Data corrections or updates ... COVID-19   in   Ontario:  January    15,   2020    to   September   27,      2020\n",
    "        #Ever   in   ICU   Ever   hospitalized                                                                                                                                            2,815      1        11       121      755     1,926      1,053    4,955        6.3%            0.0%           0.1%              0.9%           9.7%          31.4%           2.4%          11.1%              Note: Not all cases have an age reported. Data corrections or updates ... COVID-19   in   Ontario:  January    15,   2020    to   September   12,      2020\n",
    "        #Ever   in   ICU   Ever   hospitalized      Data   Source:      iPHIS        plus      Cumulative   case   count   as   of    August   1    Percentage   of   all   cases         2,778      1        11       117      745     1,904      1,004    4,675        7.0%            0.0%           0.1%              1.0%          10.4%          31.5%           2.5%          11.9%                                                                                        COVID-19   in   Ontario:  January    15,   2020    to   August       1,      2020        \n",
    "        #Ever   in   ICU   Ever   hospitalized      Data   Source:      iPHIS        plus                                                                                                 2,665      1        11       104      710     1,839      936      4,342        7.6%            0.1%           0.1 %               1%          10.7 %         31.4%           2.7%          12.4%                                                                                        COVID-19   in   Ontario:  January    15,   2020    to   June        28,      2020\n",
    "        #Ever   in   ICU   Ever   hospitalized      Data   Source:      iPHIS        plus                                                                                                 2,764      1        11       116      740     1,896      994      4,650        7.1             0.0            0.1               1.0           10.4           31.5            2.6           12.0                                                                                         COVID-19   in   Ontario:  January    15,   2020    to   July        26,      2020\n",
    "    )\n",
    "    deaths, icu, hospitalized, month, day, year = [None] * 6\n",
    "    match = re.search(template, text)\n",
    "    if match and len(match.groups()) == 6:\n",
    "        deaths, icu, hospitalized = map(lambda s: int(s.replace(',','')), match.groups()[0:3])\n",
    "        month, day, year = match.groups()[3:6]\n",
    "        report_date = datetime.strptime(f'{month} {day}, {year}', '%B %d, %Y').date()\n",
    "    return report_date, deaths, icu, hospitalized\n",
    "\n",
    "def get_values(urls, num_back):\n",
    "    for url in reversed(urls[:num_back]):\n",
    "        try:\n",
    "            bytes_io = get_pdf_bytes_io_from_url(url)\n",
    "            text = extract_text(bytes_io).replace('\\n',' ')\n",
    "            report_date, deaths, icu, hospitalized = parse_report_fields(text)\n",
    "        except: \n",
    "            print('Processing failed:', url)\n",
    "            yield None\n",
    "        else:\n",
    "            yield {'date': report_date, 'hospitalized': hospitalized, 'icu': icu, 'deaths': deaths}\n",
    "\n",
    "print('Parsing last pdf documents:')\n",
    "new_data = []\n",
    "for v in get_values(urls, 3):\n",
    "    if v: new_data.append(v)\n",
    "    print(v)"
   ]
  },
  {
   "cell_type": "code",
   "execution_count": null,
   "metadata": {},
   "outputs": [],
   "source": [
    "# debug: get extracted pdf text\n",
    "# print(extract_text(get_pdf_bytes_io_from_url('https://files.ontario.ca/moh-covid-19-report-en-2020-09-28.pdf')).replace('\\n',' '))"
   ]
  },
  {
   "cell_type": "markdown",
   "metadata": {},
   "source": [
    "<a id=\"dowload-historical-data\"></a>\n",
    "<h4>Download accumulated historical data and manual override data</h4>"
   ]
  },
  {
   "cell_type": "code",
   "execution_count": null,
   "metadata": {},
   "outputs": [],
   "source": [
    "import pandas as pd\n",
    "import numpy as np"
   ]
  },
  {
   "cell_type": "code",
   "execution_count": null,
   "metadata": {},
   "outputs": [],
   "source": [
    "print('Reading historical data')\n",
    "prev_df = pd.read_csv(\n",
    "    'https://2020-ontario-covid19-severe.s3.amazonaws.com/ontario-covid19-severe.csv',\n",
    "    parse_dates=['date'],\n",
    "    usecols=['date', 'hospitalized', 'icu', 'deaths'],\n",
    "    index_col='date',\n",
    "    dtype={'hospitalized': 'Int32', 'icu': 'Int32', 'deaths': 'Int32'}\n",
    ")\n",
    "# print(prev_df.dtypes)\n",
    "prev_df.tail() #noprod"
   ]
  },
  {
   "cell_type": "code",
   "execution_count": null,
   "metadata": {},
   "outputs": [],
   "source": [
    "import numpy as np\n",
    "\n",
    "new_df = (\n",
    "    pd.DataFrame(new_data).\n",
    "    astype({'date': np.datetime64,'hospitalized': 'Int32', 'icu': 'Int32', 'deaths': 'Int32'}).\n",
    "    set_index('date')\n",
    ")\n",
    "# print(new_df.dtypes)\n",
    "new_df.head() #noprod"
   ]
  },
  {
   "cell_type": "code",
   "execution_count": null,
   "metadata": {
    "scrolled": true
   },
   "outputs": [],
   "source": [
    "print('Reading manual override data')\n",
    "override_df = pd.read_csv(\n",
    "    'https://2020-ontario-covid19-severe.s3.amazonaws.com/ontario-covid19-severe-override.csv', parse_dates=[\"date\"],\n",
    "    usecols=[\"date\", \"hospitalized\", \"icu\", \"deaths\"],\n",
    "    index_col='date', dtype={'hospitalized': 'Int32', 'icu': 'Int32', 'deaths': 'Int32'}\n",
    ")\n",
    "# print(override_df.dtypes)\n",
    "override_df.tail() #noprod"
   ]
  },
  {
   "cell_type": "markdown",
   "metadata": {},
   "source": [
    "<a id=\"combine-data\"></a>\n",
    "<h4>Combine newly extracted data with historical data and manual override data into a single historical dataset. Upload the dataset to S3</h4>"
   ]
  },
  {
   "cell_type": "code",
   "execution_count": null,
   "metadata": {},
   "outputs": [],
   "source": [
    "from itertools import product\n",
    "\n",
    "columns = ('hospitalized', 'icu', 'deaths')\n",
    "dfs = (override_df, new_df, prev_df)\n",
    "dfs_prefixes = {num: f'df{num}_' for num, df in enumerate((override_df, new_df, prev_df))}\n",
    "dfs_prefixed = [df.add_prefix(dfs_prefixes[num]) for num, df in enumerate((override_df, new_df, prev_df))]\n",
    "\n",
    "joined_df = (\n",
    "    override_df.add_prefix('override_').\n",
    "    join(new_df.add_prefix('new_'), how='outer').\n",
    "    join(prev_df.add_prefix('prev_'), how='outer')\n",
    ")\n",
    "joined_df #noprod\n",
    "\n",
    "final_df = pd.DataFrame()\n",
    "for col in columns:\n",
    "    final_df[col] = (\n",
    "        joined_df[f'override_{col}'].\n",
    "        combine_first(joined_df[f'new_{col}']).\n",
    "        combine_first(joined_df[f'prev_{col}'])\n",
    "    )\n",
    "final_df.drop_duplicates(keep='first', inplace=True)\n",
    "final_df #noprod"
   ]
  },
  {
   "cell_type": "markdown",
   "metadata": {},
   "source": [
    "<a id=\"find-missing-dates\"></a>\n",
    "<h4>Identify missing dates if any. Upload the list of missing dates to S3</h4>"
   ]
  },
  {
   "cell_type": "code",
   "execution_count": null,
   "metadata": {},
   "outputs": [],
   "source": [
    "print('Identifying missing dates')\n",
    "from datetime import date, timedelta\n",
    "def find_missing_dates(df):\n",
    "    min_rpt_date = df.index.min().date()\n",
    "    # current date is excluded\n",
    "    num_rpt_days = (date.today() - timedelta(days=1) - min_rpt_date).days\n",
    "    all_rpt_dates = {min_rpt_date + timedelta(days=x) for x in range(num_rpt_days)}\n",
    "    fact_rpt_dates = {ts.date() for ts in df.index}\n",
    "    missing_dates = sorted(all_rpt_dates - fact_rpt_dates)\n",
    "    return missing_dates\n",
    "missing_dates = find_missing_dates(final_df)\n",
    "missing_dates #noprod"
   ]
  },
  {
   "cell_type": "code",
   "execution_count": null,
   "metadata": {},
   "outputs": [],
   "source": [
    "if not DEBUG:\n",
    "    print('Uploading missing-dates.csv to S3')\n",
    "    pd.DataFrame(dict(dates=[str(d) for d in missing_dates])).to_csv('s3://2020-ontario-covid19-severe/missing-dates.csv', index=False)"
   ]
  },
  {
   "cell_type": "code",
   "execution_count": null,
   "metadata": {},
   "outputs": [],
   "source": [
    "delta10_df = final_df.diff(10) / 10\n",
    "delta10_df.dropna(inplace=True)\n",
    "\n",
    "delta1_df = final_df.diff()\n",
    "delta1_df.dropna(inplace=True)"
   ]
  },
  {
   "cell_type": "code",
   "execution_count": null,
   "metadata": {},
   "outputs": [],
   "source": [
    "if not DEBUG:\n",
    "    print('Uploading ontario-covid19-severe.csv to S3')\n",
    "    (final_df.\n",
    "       join(delta1_df.rename(columns={'hospitalized':'hospitalized_delta','icu':'icu_delta','deaths':'deaths_delta'})).\n",
    "       join(delta10_df.rename(columns={'hospitalized':'hospitalized_mva10','icu':'icu_mva10','deaths':'deaths_mva10'}))\n",
    "       )[['hospitalized','hospitalized_delta','hospitalized_mva10',\n",
    "          'icu','icu_delta','icu_mva10',\n",
    "          'deaths','deaths_delta','deaths_mva10']].to_csv('s3://2020-ontario-covid19-severe/ontario-covid19-severe.csv')"
   ]
  },
  {
   "cell_type": "markdown",
   "metadata": {},
   "source": [
    "<h4>Download total cases numbers</h4>"
   ]
  },
  {
   "cell_type": "code",
   "execution_count": null,
   "metadata": {},
   "outputs": [],
   "source": [
    "import pandas as pd\n",
    "\n",
    "covid_status_df = pd.read_csv(\n",
    "    'https://data.ontario.ca/dataset/f4f86e54-872d-43f8-8a86-3892fd3cb5e6/resource/ed270bb8-340b-41f9-a7c6-e8ef587e6d11/download/covidtesting.csv',\n",
    "    parse_dates=['Reported Date'],\n",
    "    usecols=['Reported Date', 'Total Cases'],\n",
    "    index_col='Reported Date',\n",
    "    dtype={'Total Cases': 'Int32'}\n",
    "    ).dropna()\n",
    "covid_status_df.index.name = 'date'\n",
    "covid_status_df.columns = ['total_cases']"
   ]
  },
  {
   "cell_type": "code",
   "execution_count": null,
   "metadata": {},
   "outputs": [],
   "source": [
    "covid_status_df['total_cases_mva10'] = covid_status_df['total_cases'].diff(10)/10\n",
    "covid_status_df['total_cases_mva10'].plot.line() #noprod"
   ]
  },
  {
   "cell_type": "code",
   "execution_count": null,
   "metadata": {},
   "outputs": [],
   "source": [
    "offset_corr_df = pd.DataFrame()\n",
    "for offset in range(0,45):\n",
    "    covid_status_offset_df = covid_status_df.copy()\n",
    "    covid_status_offset_df.index = covid_status_df.index + pd.DateOffset(days=offset)\n",
    "    joined_df = delta10_df.join(covid_status_offset_df['total_cases_mva10'], how='inner')\n",
    "    offset_df = joined_df.corr()[['hospitalized','icu','deaths']].loc[['total_cases_mva10']]\n",
    "    offset_df.index = [offset]\n",
    "    offset_df.index.name = 'offset'\n",
    "    offset_corr_df = offset_corr_df.append(offset_df)\n",
    "offset_corr_df"
   ]
  },
  {
   "cell_type": "markdown",
   "metadata": {},
   "source": [
    "<a id=\"build-graphs\"></a>\n",
    "<h4>Build graphs for day-to-day totals and deltas. Upload the graphs to S3</h4>"
   ]
  },
  {
   "cell_type": "code",
   "execution_count": null,
   "metadata": {},
   "outputs": [],
   "source": [
    "def fig2s3(fig, name):\n",
    "    import s3fs\n",
    "    from io import StringIO\n",
    "    html_buffer = StringIO()\n",
    "    fig.write_html(html_buffer, include_plotlyjs=False, full_html=False)\n",
    "    s3 = s3fs.S3FileSystem(anon=False)  # uses default credentials\n",
    "    with s3.open(f's3://2020-ontario-covid19-severe/{name}.html', 'wb') as f:\n",
    "        f.write(html_buffer.getvalue().encode('UTF-8'))"
   ]
  },
  {
   "cell_type": "code",
   "execution_count": null,
   "metadata": {},
   "outputs": [],
   "source": [
    "def calc_max_yrange_abs(final_df, covid_status_df):\n",
    "    max_from_severe = final_df[['hospitalized', 'icu', 'deaths']].max().max()\n",
    "    max_from_status = covid_status_df[['total_cases']].max().max()\n",
    "    severe_yrange = (max_from_severe if max_from_severe * 10 > max_from_status else max_from_status // 10) * 1.05\n",
    "    return severe_yrange\n",
    "\n",
    "def calc_max_yrange_delta10(delta10_df, covid_status_df):\n",
    "    max_from_severe = delta10_df[['hospitalized', 'icu', 'deaths']].max().max()\n",
    "    max_from_status = covid_status_df[['total_cases_mva10']].max().max()\n",
    "    severe_yrange = (max_from_severe if max_from_severe * 10 > max_from_status else max_from_status // 10) * 1.05\n",
    "    return severe_yrange"
   ]
  },
  {
   "cell_type": "code",
   "execution_count": null,
   "metadata": {},
   "outputs": [],
   "source": [
    "import plotly.graph_objects as go\n",
    "from plotly.subplots import make_subplots\n",
    "\n",
    "fig = make_subplots(specs=[[{\"secondary_y\": True}]])\n",
    "\n",
    "colors = {'Hospitalized': '#636efa', 'ICU': 'orange', 'Deaths': '#EF553B'}\n",
    "names_in_df = {'Hospitalized': 'hospitalized', 'ICU': 'icu', 'Deaths': 'deaths'}\n",
    "for col in ['Hospitalized', 'ICU', 'Deaths']:\n",
    "    fig.add_trace(\n",
    "        go.Scatter(\n",
    "            x=final_df.index, y=final_df[names_in_df[col]], name=col, line=dict(color=colors[col])\n",
    "        ),\n",
    "        secondary_y=False\n",
    "    )\n",
    "\n",
    "# Set x-axis title\n",
    "fig.update_xaxes(title_text=\"Date\", range=[delta10_df.index.min(),delta10_df.index.max()])\n",
    "\n",
    "\n",
    "fig.update_yaxes(title_text=\"Number of people\", secondary_y=False, range=[0, calc_max_yrange_abs(final_df, covid_status_df)])\n",
    "fig.update_yaxes(title_text=\"Total cases\", secondary_y=True, range=[0, 10 * calc_max_yrange_abs(final_df, covid_status_df)])\n",
    "\n",
    "fig.add_trace(\n",
    "    go.Scatter(\n",
    "        x=covid_status_df.index,\n",
    "        y=covid_status_df['total_cases'],\n",
    "        name='Total Cases',\n",
    "        line=dict(color='#AAAAAA', dash='dot'),\n",
    "    ),\n",
    "    secondary_y=True\n",
    ")\n",
    "\n",
    "fig.update_layout(legend=dict(\n",
    "    orientation='h',\n",
    "    yanchor='bottom',\n",
    "    y=1.02,\n",
    "    xanchor='right',\n",
    "    x=0.9\n",
    "))\n",
    "\n",
    "fig.update_layout(hovermode='x')\n",
    "fig.show() #noprod"
   ]
  },
  {
   "cell_type": "code",
   "execution_count": null,
   "metadata": {},
   "outputs": [],
   "source": [
    "if not DEBUG:\n",
    "    print('Uploading graph-totals to S3')\n",
    "    fig2s3(fig, 'graph-totals')"
   ]
  },
  {
   "cell_type": "code",
   "execution_count": null,
   "metadata": {},
   "outputs": [],
   "source": [
    "import plotly.graph_objects as go\n",
    "from plotly.subplots import make_subplots\n",
    "\n",
    "fig = make_subplots(specs=[[{\"secondary_y\": True}]])\n",
    "\n",
    "colors = {'Hospitalized Δ': '#636efa', 'ICU Δ': 'orange', 'Deaths Δ': '#EF553B'}\n",
    "names_in_df = {'Hospitalized Δ': 'hospitalized', 'ICU Δ': 'icu', 'Deaths Δ': 'deaths'}\n",
    "for col in ['Hospitalized Δ', 'ICU Δ', 'Deaths Δ']:\n",
    "    fig.add_trace(\n",
    "        go.Scatter(\n",
    "            x=delta10_df.index, y=delta10_df[names_in_df[col]], name=col, line=dict(color=colors[col])\n",
    "        ),\n",
    "        secondary_y=False\n",
    "    )\n",
    "\n",
    "# Set x-axis title\n",
    "fig.update_xaxes(title_text=\"Date\", range=[delta10_df.index.min(),delta10_df.index.max()])\n",
    "fig.update_yaxes(\n",
    "    title_text=\"Number of people\",\n",
    "    secondary_y=False,\n",
    "    range=[0, calc_max_yrange_delta10(delta10_df, covid_status_df)],\n",
    ")\n",
    "fig.update_yaxes(\n",
    "    title_text=\"Total cases Δ\",\n",
    "    secondary_y=True,\n",
    "    range=[0, 10*calc_max_yrange_delta10(delta10_df, covid_status_df)],\n",
    ")\n",
    "\n",
    "fig.add_trace(\n",
    "    go.Scatter(\n",
    "        x=covid_status_df.index,\n",
    "        y=covid_status_df['total_cases_mva10'],\n",
    "        name='Total Cases Δ',\n",
    "        line=dict(color='#AAAAAA', dash='dot'),\n",
    "    ),\n",
    "    secondary_y=True\n",
    ")\n",
    "\n",
    "fig.update_layout(legend=dict(\n",
    "    orientation='h',\n",
    "    yanchor='bottom',\n",
    "    y=1.02,\n",
    "    xanchor='right',\n",
    "    x=0.9\n",
    "))\n",
    "\n",
    "fig.update_layout(hovermode='x')\n",
    "fig.show() #noprod"
   ]
  },
  {
   "cell_type": "code",
   "execution_count": null,
   "metadata": {},
   "outputs": [],
   "source": [
    "if not DEBUG:\n",
    "    print('Uploading graph-deltas to S3')\n",
    "    fig2s3(fig, 'graph-deltas')"
   ]
  },
  {
   "cell_type": "markdown",
   "metadata": {},
   "source": [
    "<a id=\"refresh-cf\"></a>\n",
    "<h4>Refreshing CloudFront cache</h4>"
   ]
  },
  {
   "cell_type": "code",
   "execution_count": null,
   "metadata": {},
   "outputs": [],
   "source": [
    "print('Refreshing CloudFront cache')"
   ]
  },
  {
   "cell_type": "code",
   "execution_count": null,
   "metadata": {},
   "outputs": [],
   "source": [
    "def refresh_cf_cache():\n",
    "    import boto3\n",
    "    import datetime\n",
    "\n",
    "    client = boto3.client('cloudfront')\n",
    "\n",
    "    response = client.create_invalidation(\n",
    "        DistributionId='ECSSCPAYIJPXV',\n",
    "        InvalidationBatch={\n",
    "            'Paths': {\n",
    "                'Quantity': 1,\n",
    "                'Items': [\n",
    "                    '/*',\n",
    "                ]\n",
    "            },\n",
    "            'CallerReference': datetime.datetime.now().isoformat()\n",
    "        }\n",
    "    )\n",
    "\n",
    "    print(\n",
    "        \"The invalidation request response HTTPStatusCode={}, Invalidation.Status={}\"\n",
    "        .format(response['ResponseMetadata']['HTTPStatusCode'], response['Invalidation']['Status'])\n",
    "    )\n",
    "    \n",
    "if not DEBUG:\n",
    "    refresh_cf_cache()"
   ]
  },
  {
   "cell_type": "code",
   "execution_count": null,
   "metadata": {},
   "outputs": [],
   "source": [
    "print('Done!')"
   ]
  }
 ],
 "metadata": {
  "kernelspec": {
   "display_name": "Python 3",
   "language": "python",
   "name": "python3"
  },
  "language_info": {
   "codemirror_mode": {
    "name": "ipython",
    "version": 3
   },
   "file_extension": ".py",
   "mimetype": "text/x-python",
   "name": "python",
   "nbconvert_exporter": "python",
   "pygments_lexer": "ipython3",
   "version": "3.8.2"
  }
 },
 "nbformat": 4,
 "nbformat_minor": 4
}
